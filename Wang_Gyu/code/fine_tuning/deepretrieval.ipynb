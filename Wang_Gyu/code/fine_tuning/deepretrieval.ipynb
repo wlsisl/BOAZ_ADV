{
 "cells": [
  {
   "cell_type": "code",
   "execution_count": 4,
   "metadata": {},
   "outputs": [
    {
     "data": {
      "text/plain": [
       "{'pubid': 14499029,\n",
       " 'question': 'Is naturopathy as effective as conventional therapy for treatment of menopausal symptoms?',\n",
       " 'context': {'contexts': ['Although the use of alternative medicine in the United States is increasing, no published studies have documented the effectiveness of naturopathy for treatment of menopausal symptoms compared to women receiving conventional therapy in the clinical setting.',\n",
       "   'To compare naturopathic therapy with conventional medical therapy for treatment of selected menopausal symptoms.',\n",
       "   'A retrospective cohort study, using abstracted data from medical charts.',\n",
       "   'One natural medicine and six conventional medical clinics at Community Health Centers of King County, Washington, from November 1, 1996, through July 31, 1998.',\n",
       "   'Women aged 40 years of age or more with a diagnosis of menopausal symptoms documented by a naturopathic or conventional physician.',\n",
       "   'Improvement in selected menopausal symptoms.',\n",
       "   'In univariate analyses, patients treated with naturopathy for menopausal symptoms reported higher monthly incomes ($1848.00 versus $853.60), were less likely to be smokers (11.4% versus 41.9%), exercised more frequently, and reported higher frequencies of decreased energy (41.8% versus 24.4%), insomnia (57.0% versus 33.1%), and hot flashes (69.6% versus 55.6%) at baseline than those who received conventional treatment. In multivariate analyses, patients treated with naturopathy were approximately seven times more likely than conventionally treated patients to report improvement for insomnia (odds ratio [OR], 6.77; 95% confidence interval [CI], 1.71, 26.63) and decreased energy (OR, 6.55; 95% CI, 0.96, 44.74). Naturopathy patients reported improvement for anxiety (OR, 1.27; 95% CI, 0.63, 2.56), hot flashes (OR, 1.40; 95% CI, 0.68, 2.88), menstrual changes (OR, 0.98; 95% CI, 0.43, 2.24), and vaginal dryness (OR, 0.91; 95% CI, 0.21, 3.96) about as frequently as patients who were treated conventionally.'],\n",
       "  'labels': ['BACKGROUND',\n",
       "   'OBJECTIVE',\n",
       "   'DESIGN',\n",
       "   'SETTING',\n",
       "   'PATIENTS',\n",
       "   'MAIN OUTCOME MEASURES',\n",
       "   'RESULTS'],\n",
       "  'meshes': ['Anxiety',\n",
       "   'Cohort Studies',\n",
       "   'Confidence Intervals',\n",
       "   'Estrogen Replacement Therapy',\n",
       "   'Female',\n",
       "   'Health Status',\n",
       "   'Hot Flashes',\n",
       "   'Humans',\n",
       "   'Menopause',\n",
       "   'Middle Aged',\n",
       "   'Naturopathy',\n",
       "   'Odds Ratio',\n",
       "   'Patient Satisfaction',\n",
       "   'Retrospective Studies',\n",
       "   'Risk Factors',\n",
       "   'Severity of Illness Index',\n",
       "   'Sleep Initiation and Maintenance Disorders',\n",
       "   'Surveys and Questionnaires',\n",
       "   'Time Factors',\n",
       "   'Urinary Incontinence',\n",
       "   'Vaginal Diseases',\n",
       "   'Washington']},\n",
       " 'long_answer': 'Naturopathy appears to be an effective alternative for relief of specific menopausal symptoms compared to conventional therapy.'}"
      ]
     },
     "execution_count": 4,
     "metadata": {},
     "output_type": "execute_result"
    }
   ],
   "source": [
    "from datasets import load_dataset\n",
    "\n",
    "ds = load_dataset(\"qiaojin/PubMedQA\", \"pqa_unlabeled\")\n",
    "\n",
    "ds['train'][0]"
   ]
  },
  {
   "cell_type": "code",
   "execution_count": 5,
   "metadata": {},
   "outputs": [
    {
     "data": {
      "text/plain": [
       "61249"
      ]
     },
     "execution_count": 5,
     "metadata": {},
     "output_type": "execute_result"
    }
   ],
   "source": [
    "len(ds['train'])"
   ]
  },
  {
   "cell_type": "code",
   "execution_count": 6,
   "metadata": {},
   "outputs": [
    {
     "name": "stdout",
     "output_type": "stream",
     "text": [
      "총 키워드 수: 109\n",
      "샘플 키워드: ['airway', 'airway management', 'airway obstruction', 'alfentanil', 'analgesia', 'anesthesia', 'anesthetic', 'anesthetic machine', 'anesthetic neurotoxicity', 'arterial cannulation']\n"
     ]
    }
   ],
   "source": [
    "# 박사님이 주신 키워드로 정제\n",
    "import pandas as pd\n",
    "\n",
    "# 엑셀 파일 경로\n",
    "file_path = \"/Users/yoon/BOAZ_ADV/Wang_Gyu/code/fine_tuning/마취관련_키워드_샘플.xlsx\"  # 실제 파일명에 맞게 수정\n",
    "\n",
    "# 엑셀 파일 읽기\n",
    "df = pd.read_excel(file_path)\n",
    "\n",
    "# 첫 열은 설명(예: \"하나당 neonate/infant...\") → 제외\n",
    "keyword_columns = df.columns[1:]\n",
    "\n",
    "# 키워드 수집용 set\n",
    "keywords = set()\n",
    "\n",
    "# 열마다 유효한 텍스트 키워드만 수집\n",
    "for col in keyword_columns:\n",
    "    for item in df[col].dropna():\n",
    "        if isinstance(item, str):\n",
    "            cleaned = item.strip().lower()\n",
    "            if cleaned:\n",
    "                keywords.add(cleaned)\n",
    "\n",
    "# 결과 리스트로 변환\n",
    "keywords = sorted(list(keywords))\n",
    "\n",
    "# 예시 출력 (상위 10개)\n",
    "print(\"총 키워드 수:\", len(keywords))\n",
    "print(\"샘플 키워드:\", keywords[:10])"
   ]
  },
  {
   "cell_type": "code",
   "execution_count": 13,
   "metadata": {},
   "outputs": [
    {
     "name": "stderr",
     "output_type": "stream",
     "text": [
      "100%|██████████| 61249/61249 [00:01<00:00, 41831.64it/s]"
     ]
    },
    {
     "name": "stdout",
     "output_type": "stream",
     "text": [
      "86\n",
      "{'pubid': 8311314, 'question': 'Is intramuscular mivacurium an alternative to intramuscular succinylcholine?', 'context': {'contexts': [\"Mivacurium's rapid onset and short duration of action in children suggests that intramuscular administration might treat laryngospasm and facilitate tracheal intubation without producing prolonged paralysis. Accordingly, the authors measured the neuromuscular effects of intramuscular mivacurium in anesthetized infants and children.\", 'Twenty unpremedicated infants and children (3 months to 5 yr of age) were anesthetized with nitrous oxide and halothane and permitted to breathe spontaneously. When anesthetic conditions were stable, mivacurium was injected into the quadriceps or deltoid muscle. Minute ventilation and adductor pollicis twitch tension were measured. The initial mivacurium dose was 250 micrograms/kg and was increased (to a maximum of 800 micrograms/kg, at which dose the trial was ended) or decreased according to the response of the previous patient, the goal being to bracket the dose producing 80-90% twitch depression within 5 min of drug administration.', 'No patient achieved>80% twitch depression within 5 min of mivacurium administration. Peak twitch depression was 90 +/- 13% (mean +/- SD) for infants and 88 +/- 15% for children at 15.0 +/- 4.6 min and 18.4 +/- 6.4 min, respectively. Ventilatory depression (a 50% decrease in minute ventilation or a 10-mmHg increase in end-tidal carbon dioxide tension) occurred at 9.0 +/- 4.4 min in nine infants and 13.6 +/- 7.5 min in 10 children; ventilatory depression did not develop in one infant given a dose of 350 micrograms/kg. Time to peak twitch depression or ventilatory depression was not faster with larger doses.'], 'labels': ['BACKGROUND', 'METHODS', 'RESULTS'], 'meshes': ['Anesthesia, Inhalation', 'Child, Preschool', 'Elective Surgical Procedures', 'Halothane', 'Humans', 'Infant', 'Injections, Intramuscular', 'Isoquinolines', 'Neuromuscular Junction', 'Neuromuscular Nondepolarizing Agents', 'Nitrous Oxide', 'Succinylcholine']}, 'long_answer': 'Although ventilatory depression preceded twitch depression, both occurred later with intramuscular mivacurium than would be expected after intravenous mivacurium or intramuscular succinylcholine. The authors speculate that the onset of intramuscular mivacurium is too slow to treat laryngospasm or to facilitate routine tracheal intubation in infants or children, despite administration of large doses.'}\n"
     ]
    },
    {
     "name": "stderr",
     "output_type": "stream",
     "text": [
      "\n"
     ]
    }
   ],
   "source": [
    "from tqdm import tqdm\n",
    "\n",
    "words = ['neonate', 'infant', 'children', 'pediatric']\n",
    "\n",
    "filtered_docs = []\n",
    "\n",
    "# 필터링\n",
    "for example in tqdm(ds['train']):\n",
    "    meshes = example['context']['meshes']\n",
    "    meshes_lower = [m.lower() for m in meshes]\n",
    "\n",
    "    if any(w in meshes_lower for w in words) and any(a in meshes_lower for a in keywords):\n",
    "        filtered_docs.append(example)\n",
    "\n",
    "print(len(filtered_docs))\n",
    "print(filtered_docs[0])"
   ]
  }
 ],
 "metadata": {
  "kernelspec": {
   "display_name": "boaz",
   "language": "python",
   "name": "python3"
  },
  "language_info": {
   "codemirror_mode": {
    "name": "ipython",
    "version": 3
   },
   "file_extension": ".py",
   "mimetype": "text/x-python",
   "name": "python",
   "nbconvert_exporter": "python",
   "pygments_lexer": "ipython3",
   "version": "3.11.11"
  }
 },
 "nbformat": 4,
 "nbformat_minor": 2
}
